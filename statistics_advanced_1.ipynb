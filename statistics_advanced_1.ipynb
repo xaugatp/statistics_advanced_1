{
 "cells": [
  {
   "cell_type": "code",
   "execution_count": 1,
   "metadata": {},
   "outputs": [],
   "source": [
    "#1) What is probability density function?\n"
   ]
  },
  {
   "cell_type": "code",
   "execution_count": 2,
   "metadata": {},
   "outputs": [
    {
     "data": {
      "text/plain": [
       "' \\nA probability density function (PDF) is a mathematical function that describes\\nthe likelihood of a continious random variable falling within a particular \\nrange of values. In other words, it specifies the probability that the random \\nvariable will take on a specific value.  And it is used for continious random\\nvaribale. \\n\\nThe PDF is often denoted by f(x), where x is the varibale and f(x) represents\\nthe density of probability at that point x. The probability of the random \\nvariable falling within a specific interval [a,b] is given by the area under the \\nPDF curve between a and b.\\n\\nMathematically, the probability density function must satisfy two conditions:\\n-> It must be non-negative for all possible values of the random variables\\n   f(X) ≥ 0.\\n   \\n-> The total area under the curve (overall possible values of the random variable)\\n   must be equal to 1.\\n   ∫ \\n−∞\\n∞\\n\\u200b\\n f(x)dx=1.\\n\\n\\n\\n\\n\\n\\n'"
      ]
     },
     "execution_count": 2,
     "metadata": {},
     "output_type": "execute_result"
    }
   ],
   "source": [
    "''' \n",
    "A probability density function (PDF) is a mathematical function that describes\n",
    "the likelihood of a continious random variable falling within a particular \n",
    "range of values. In other words, it specifies the probability that the random \n",
    "variable will take on a specific value.  And it is used for continious random\n",
    "varibale. \n",
    "\n",
    "The PDF is often denoted by f(x), where x is the varibale and f(x) represents\n",
    "the density of probability at that point x. The probability of the random \n",
    "variable falling within a specific interval [a,b] is given by the area under the \n",
    "PDF curve between a and b.\n",
    "\n",
    "Mathematically, the probability density function must satisfy two conditions:\n",
    "-> It must be non-negative for all possible values of the random variables\n",
    "   f(X) ≥ 0.\n",
    "   \n",
    "-> The total area under the curve (overall possible values of the random variable)\n",
    "   must be equal to 1.\n",
    "   ∫ \n",
    "−∞\n",
    "∞\n",
    "​\n",
    " f(x)dx=1.\n",
    "\n",
    "\n",
    "\n",
    "\n",
    "\n",
    "\n",
    "'''"
   ]
  },
  {
   "cell_type": "code",
   "execution_count": 3,
   "metadata": {},
   "outputs": [],
   "source": [
    "#Q2.) What are the types of Probability distribution?\n"
   ]
  },
  {
   "cell_type": "code",
   "execution_count": 4,
   "metadata": {},
   "outputs": [
    {
     "data": {
      "text/plain": [
       "' \\nThe types of Probability distribution are as follow:\\n-> Normal/Gaussian Distribution\\n-> Bernouli Distribution\\n-> Uniform Distribution\\n-> Poission Distribution \\n-> Log Normal Distribution\\n-> Binomial Distribution\\n\\n\\n'"
      ]
     },
     "execution_count": 4,
     "metadata": {},
     "output_type": "execute_result"
    }
   ],
   "source": [
    "''' \n",
    "The types of Probability distribution are as follow:\n",
    "-> Normal/Gaussian Distribution\n",
    "-> Bernouli Distribution\n",
    "-> Uniform Distribution\n",
    "-> Poission Distribution \n",
    "-> Log Normal Distribution\n",
    "-> Binomial Distribution\n",
    "\n",
    "\n",
    "'''"
   ]
  },
  {
   "cell_type": "code",
   "execution_count": 5,
   "metadata": {},
   "outputs": [],
   "source": [
    "#Q3)  Write a Python function to calculate the probability density function of\n",
    "# a normal distribution with given mean and standard deviation at a given point."
   ]
  },
  {
   "cell_type": "code",
   "execution_count": 6,
   "metadata": {},
   "outputs": [],
   "source": [
    "import numpy as np \n",
    "from scipy.stats import norm\n",
    "\n",
    "def calculate_normal_pdf(x,mu,sigma):\n",
    "    '''  \n",
    "    Calculate Probability density function of the normal distribution \n",
    "    parameters: \n",
    "    x: The point at which to calculate the PDF.\n",
    "    mu: Mean of the normal distribution.\n",
    "    sigma: Standard deviation of the normal distribution. \n",
    "    Returns: \n",
    "    -pdf value: The pdf at the specified point. \n",
    "    '''\n",
    "    pdf_value = norm.pdf(x,mu,sigma)\n",
    "    return pdf_value"
   ]
  },
  {
   "cell_type": "code",
   "execution_count": 7,
   "metadata": {},
   "outputs": [],
   "source": [
    "#Q.4) What are the properties of Binomial Distribution? Give two examples \n",
    "# of events where binomial distribution can be applied."
   ]
  },
  {
   "cell_type": "code",
   "execution_count": 8,
   "metadata": {},
   "outputs": [
    {
     "data": {
      "text/plain": [
       "' \\nThe properties of Binomial Distribution are: \\ni) Every experimental outcome is binary, i.e each trial has two possible \\n   outcomes, often referred to sucess and failure.\\nii) The experiment is performed n number of times.\\niii) The random variable representing the number of sucesses(k) is a discrete \\n     variable, taking a non negative integer value from 0 to n. \\n    \\nThe examples of events where binomial distribution can be applied are: \\ni) Coin Flip\\n -> Experiment: Tossing a fair coin multiple times.\\n -> Outcomes: Sucess is defined as getting heads and failure is defined as\\n            getting tails. \\n -> Parameters: Number of trials (n) and probability of sucess (p).\\n -> Application: Determining the probability of getting specific number of heads in \\n                 a certain number of coin tosses.\\nii) Manufacturing Defects:\\n   ->Experiment: Inspectinga a batch of products for defects.\\n   -> Outcomes: Suces is finding a defective item, and failure is finding a, \\n                non-defective item.\\n    ->Parameters: Number of trials (n) and probability of sucess(p).\\n    -> Application: Calculating the probability of a certain number of \\n                    defective items in a sample from the batch.   \\n\\n'"
      ]
     },
     "execution_count": 8,
     "metadata": {},
     "output_type": "execute_result"
    }
   ],
   "source": [
    "''' \n",
    "The properties of Binomial Distribution are: \n",
    "i) Every experimental outcome is binary, i.e each trial has two possible \n",
    "   outcomes, often referred to sucess and failure.\n",
    "ii) The experiment is performed n number of times.\n",
    "iii) The random variable representing the number of sucesses(k) is a discrete \n",
    "     variable, taking a non negative integer value from 0 to n. \n",
    "    \n",
    "The examples of events where binomial distribution can be applied are: \n",
    "i) Coin Flip\n",
    " -> Experiment: Tossing a fair coin multiple times.\n",
    " -> Outcomes: Sucess is defined as getting heads and failure is defined as\n",
    "            getting tails. \n",
    " -> Parameters: Number of trials (n) and probability of sucess (p).\n",
    " -> Application: Determining the probability of getting specific number of heads in \n",
    "                 a certain number of coin tosses.\n",
    "ii) Manufacturing Defects:\n",
    "   ->Experiment: Inspectinga a batch of products for defects.\n",
    "   -> Outcomes: Suces is finding a defective item, and failure is finding a, \n",
    "                non-defective item.\n",
    "    ->Parameters: Number of trials (n) and probability of sucess(p).\n",
    "    -> Application: Calculating the probability of a certain number of \n",
    "                    defective items in a sample from the batch.   \n",
    "\n",
    "'''"
   ]
  },
  {
   "cell_type": "code",
   "execution_count": 9,
   "metadata": {},
   "outputs": [],
   "source": [
    "#Q5)Generate a random sample of size 1000 from a binomial distribution with probability of success 0.4\n",
    "#and plot a histogram of the results using matplotlib."
   ]
  },
  {
   "cell_type": "code",
   "execution_count": 20,
   "metadata": {},
   "outputs": [
    {
     "data": {
      "image/png": "[encoded data removed]",
      "text/plain": [
       "<Figure size 640x480 with 1 Axes>"
      ]
     },
     "metadata": {},
     "output_type": "display_data"
    }
   ],
   "source": [
    "import pandas as pd\n",
    "import matplotlib.pyplot  as plt\n",
    "from scipy.stats import binom\n",
    "n = 1000\n",
    "p = 0.4\n",
    "s = np.random.binomial(n,p)\n",
    "plt.hist(s)\n",
    "plt.title(\"Histogram\")\n",
    "plt.show()\n"
   ]
  },
  {
   "cell_type": "code",
   "execution_count": 21,
   "metadata": {},
   "outputs": [],
   "source": [
    "#Q6. Write a Python function to calculate the cumulative distribution function \n",
    "# of a Poisson distribution with given mean at a given point."
   ]
  },
  {
   "cell_type": "code",
   "execution_count": 22,
   "metadata": {},
   "outputs": [],
   "source": [
    "from scipy.stats import poisson\n",
    "\n",
    "def poission_cdf(point,mean):\n",
    "    \"\"\" \n",
    "    Calculate a cumulative distribution function of a Poission Distribution\n",
    "    Parameters: \n",
    "    point: The point at which to calculate the CDF.\n",
    "    mean: Mean of the poission distribution \n",
    "    Returens: \n",
    "    cdf_value:The CDF value at the specified point.\n",
    "    \n",
    "    \"\"\"\n",
    "    cdf_value = poisson.cdf(point, mu=mean)\n",
    "    return cdf_value\n",
    "    "
   ]
  },
  {
   "cell_type": "code",
   "execution_count": 24,
   "metadata": {},
   "outputs": [],
   "source": [
    "#Q.7 ) How binomial distribution diffrent from Poission Distribution?\n"
   ]
  },
  {
   "cell_type": "code",
   "execution_count": 25,
   "metadata": {},
   "outputs": [
    {
     "data": {
      "text/plain": [
       "' \\nThe biniomial distribution and the Poission distribution are both probability \\ndistributions that describes the number of sucesses in a series of independent\\nand identically distributed trials. However there are key diffrences between \\nthe two distributions:\\n1) Nature of Random Variable\\n*Binomial Distribution: The binomial distribution deals with the number of \\nsucesses in a fixed number of trials (denoted by n) where each trial has two \\npossible outcomes(sucess or failure). The random variable is discrete.\\n*Poission Distribution: The Poission Distribution models the number of events\\nthat occur in a fixed interval of time space. The random variable is also discrete.\\n\\n2) Number of Trials\\n* Binomial Distribution: The number of trials(n) is fixed and known in advanced.\\n*Poission Distribution: The numbe rof events is not fixed in advanced it can vary \\nover time or space.\\n\\n3) Probability of Sucess\\n*Binomial Distribution: The probability of sucess remains constant for each \\ntrial.\\n*Poission Distribution: The probability of an event occuring in a small interval \\nis proportion to the length of the interval. The parameter for the Poission \\nDistribution is the average rate of events per unit interval.\\n\\n4) Conditions for Application\\n*Biniomial Distribution: Applicable when there are fixed numbe rof independent \\ntrials, each with possible outcomes and the probability of sucess is constant.\\n* Poission Distribution: Applicable when events occurs independently in time or\\nspace , and the average rate of events is known.\\n\\n\\n'"
      ]
     },
     "execution_count": 25,
     "metadata": {},
     "output_type": "execute_result"
    }
   ],
   "source": [
    "''' \n",
    "The biniomial distribution and the Poission distribution are both probability \n",
    "distributions that describes the number of sucesses in a series of independent\n",
    "and identically distributed trials. However there are key diffrences between \n",
    "the two distributions:\n",
    "1) Nature of Random Variable\n",
    "*Binomial Distribution: The binomial distribution deals with the number of \n",
    "sucesses in a fixed number of trials (denoted by n) where each trial has two \n",
    "possible outcomes(sucess or failure). The random variable is discrete.\n",
    "*Poission Distribution: The Poission Distribution models the number of events\n",
    "that occur in a fixed interval of time space. The random variable is also discrete.\n",
    "\n",
    "2) Number of Trials\n",
    "* Binomial Distribution: The number of trials(n) is fixed and known in advanced.\n",
    "*Poission Distribution: The numbe rof events is not fixed in advanced it can vary \n",
    "over time or space.\n",
    "\n",
    "3) Probability of Sucess\n",
    "*Binomial Distribution: The probability of sucess remains constant for each \n",
    "trial.\n",
    "*Poission Distribution: The probability of an event occuring in a small interval \n",
    "is proportion to the length of the interval. The parameter for the Poission \n",
    "Distribution is the average rate of events per unit interval.\n",
    "\n",
    "4) Conditions for Application\n",
    "*Biniomial Distribution: Applicable when there are fixed numbe rof independent \n",
    "trials, each with possible outcomes and the probability of sucess is constant.\n",
    "* Poission Distribution: Applicable when events occurs independently in time or\n",
    "space , and the average rate of events is known.\n",
    "\n",
    "\n",
    "'''"
   ]
  },
  {
   "cell_type": "code",
   "execution_count": 26,
   "metadata": {},
   "outputs": [],
   "source": [
    "#Q8. Generate a random sample of size 1000 from a Poisson distribution with mean 5 and calculate the\n",
    "#sample mean and variance."
   ]
  },
  {
   "cell_type": "code",
   "execution_count": 29,
   "metadata": {},
   "outputs": [
    {
     "name": "stdout",
     "output_type": "stream",
     "text": [
      "Sample Mean: 4.994\n",
      "Sample Variance: 5.039003003003003\n"
     ]
    }
   ],
   "source": [
    "from scipy.stats import poisson\n",
    "import pandas as pd\n",
    "import numpy as np \n",
    "n = 1000\n",
    "mean_value = 5\n",
    "s = np.random.poisson(mean_value,n)\n",
    "df = pd.DataFrame({'Sample': s})\n",
    "sample_mean = df['Sample'].mean()\n",
    "sample_variance = df['Sample'].var()\n",
    "\n",
    "print(f'Sample Mean: {sample_mean}')\n",
    "print(f'Sample Variance: {sample_variance}')"
   ]
  },
  {
   "cell_type": "code",
   "execution_count": 31,
   "metadata": {},
   "outputs": [],
   "source": [
    "#Q9. How mean and variance are related in Binomial distribution\n",
    "# and Poisson distribution?"
   ]
  },
  {
   "cell_type": "code",
   "execution_count": 32,
   "metadata": {},
   "outputs": [
    {
     "data": {
      "text/plain": [
       "' \\nBinomial Distribution\\nFor a Binomial Distribution with parameters n(number of trials) and \\np (probability) of sucess in each trial. \\ni) Mean = The mean is given by μ = np, where n is the number of trials and \\np is the probability of sucess in each trial. \\nii) Variance = The variance is given by σ^2 =np(1-p). Its the product of \\nthe number of trials (n), the probability of sucess (p) and the probability \\nof failure(1-p)\\n\\nSo in binomial distribution , the variance is directly influenced by both the \\nnumber of trials and the probability of sucess, and it depends in the spread\\nof the sucess probability. \\n\\n\\nPoisson Distribution\\nFor a Poission distribution with parameter  λ (average rate of events):\\ni) Mean: The mean is given by μ=λ.\\nii)Variance: The variance is also given by σ ^2 =  λ . In the poission distribution \\nthe mean and variance are equal and are both determined by the average rate \\nof events  λ .\\n\\nSo in Poission Distribution , the mean and variance are directly related and are\\nsoley determined by the average rate of events. \\n\\n'"
      ]
     },
     "execution_count": 32,
     "metadata": {},
     "output_type": "execute_result"
    }
   ],
   "source": [
    "''' \n",
    "Binomial Distribution\n",
    "For a Binomial Distribution with parameters n(number of trials) and \n",
    "p (probability) of sucess in each trial. \n",
    "i) Mean = The mean is given by μ = np, where n is the number of trials and \n",
    "p is the probability of sucess in each trial. \n",
    "ii) Variance = The variance is given by σ^2 =np(1-p). Its the product of \n",
    "the number of trials (n), the probability of sucess (p) and the probability \n",
    "of failure(1-p)\n",
    "\n",
    "So in binomial distribution , the variance is directly influenced by both the \n",
    "number of trials and the probability of sucess, and it depends in the spread\n",
    "of the sucess probability. \n",
    "\n",
    "\n",
    "Poisson Distribution\n",
    "For a Poission distribution with parameter  λ (average rate of events):\n",
    "i) Mean: The mean is given by μ=λ.\n",
    "ii)Variance: The variance is also given by σ ^2 =  λ . In the poission distribution \n",
    "the mean and variance are equal and are both determined by the average rate \n",
    "of events  λ .\n",
    "\n",
    "So in Poission Distribution , the mean and variance are directly related and are\n",
    "soley determined by the average rate of events. \n",
    "\n",
    "'''"
   ]
  },
  {
   "cell_type": "code",
   "execution_count": 33,
   "metadata": {},
   "outputs": [],
   "source": [
    "#Q10. In normal distribution with respect to mean position, where does the \n",
    "# least frequent data appear?"
   ]
  },
  {
   "cell_type": "code",
   "execution_count": 34,
   "metadata": {},
   "outputs": [
    {
     "data": {
      "text/plain": [
       "' \\nThe normal distribution also known as the Guassian Distribution or bell curve\\nthe data is symmetrically distributed around the mean. The mean is the central \\ntendency and is located at the center of the distribution. The least frequent \\ndata points in a normal distribution are found in the tails or extremes of \\nthe distribution, far away from the mean.\\n\\n\\n'"
      ]
     },
     "execution_count": 34,
     "metadata": {},
     "output_type": "execute_result"
    }
   ],
   "source": [
    "''' \n",
    "The normal distribution also known as the Guassian Distribution or bell curve\n",
    "the data is symmetrically distributed around the mean. The mean is the central \n",
    "tendency and is located at the center of the distribution. The least frequent \n",
    "data points in a normal distribution are found in the tails or extremes of \n",
    "the distribution, far away from the mean.\n",
    "\n",
    "\n",
    "'''"
   ]
  },
  {
   "cell_type": "code",
   "execution_count": null,
   "metadata": {},
   "outputs": [],
   "source": []
  }
 ],
 "metadata": {
  "kernelspec": {
   "display_name": "Python 3",
   "language": "python",
   "name": "python3"
  },
  "language_info": {
   "codemirror_mode": {
    "name": "ipython",
    "version": 3
   },
   "file_extension": ".py",
   "mimetype": "text/x-python",
   "name": "python",
   "nbconvert_exporter": "python",
   "pygments_lexer": "ipython3",
   "version": "3.11.7"
  }
 },
 "nbformat": 4,
 "nbformat_minor": 2
}
